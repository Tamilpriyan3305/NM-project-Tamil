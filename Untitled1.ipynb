{
  "nbformat": 4,
  "nbformat_minor": 0,
  "metadata": {
    "colab": {
      "provenance": [],
      "authorship_tag": "ABX9TyM0rEQkA2cZ1ttqM8i1cT6s",
      "include_colab_link": true
    },
    "kernelspec": {
      "name": "python3",
      "display_name": "Python 3"
    },
    "language_info": {
      "name": "python"
    }
  },
  "cells": [
    {
      "cell_type": "markdown",
      "metadata": {
        "id": "view-in-github",
        "colab_type": "text"
      },
      "source": [
        "<a href=\"https://colab.research.google.com/github/Tamilpriyan3305/NM-project-Tamil/blob/main/Untitled1.ipynb\" target=\"_parent\"><img src=\"https://colab.research.google.com/assets/colab-badge.svg\" alt=\"Open In Colab\"/></a>"
      ]
    },
    {
      "cell_type": "code",
      "execution_count": 1,
      "metadata": {
        "colab": {
          "base_uri": "https://localhost:8080/"
        },
        "id": "LAnVpGfkdrXT",
        "outputId": "298074da-5807-4395-ba81-0f59b58ad190"
      },
      "outputs": [
        {
          "output_type": "stream",
          "name": "stdout",
          "text": [
            "Recommendations for 'Inception':\n",
            "0         The Matrix\n",
            "1          John Wick\n",
            "3    The Dark Knight\n",
            "Name: title, dtype: object\n"
          ]
        }
      ],
      "source": [
        "\n",
        "import pandas as pd\n",
        "from sklearn.feature_extraction.text import TfidfVectorizer\n",
        "from sklearn.metrics.pairwise import linear_kernel\n",
        "\n",
        "# Sample movie dataset\n",
        "data = {\n",
        "    'title': [\n",
        "        'The Matrix', 'John Wick', 'Inception',\n",
        "        'The Dark Knight', 'Interstellar', 'The Godfather'\n",
        "    ],\n",
        "    'description': [\n",
        "        'A hacker discovers reality is a simulation.',\n",
        "        'An ex-hitman seeks vengeance.',\n",
        "        'A thief enters dreams to steal secrets.',\n",
        "        'A vigilante fights crime in Gotham.',\n",
        "        'Astronauts travel through a wormhole.',\n",
        "        'A mafia dynasty in New York.'\n",
        "    ]\n",
        "}\n",
        "\n",
        "# Convert to DataFrame\n",
        "df = pd.DataFrame(data)\n",
        "\n",
        "# Vectorize the descriptions\n",
        "tfidf = TfidfVectorizer(stop_words='english')\n",
        "tfidf_matrix = tfidf.fit_transform(df['description'])\n",
        "\n",
        "# Compute cosine similarity\n",
        "cosine_sim = linear_kernel(tfidf_matrix, tfidf_matrix)\n",
        "\n",
        "# Function to recommend movies\n",
        "def recommend(title, cosine_sim=cosine_sim):\n",
        "    idx = df[df['title'] == title].index[0]\n",
        "    sim_scores = list(enumerate(cosine_sim[idx]))\n",
        "    sim_scores = sorted(sim_scores, key=lambda x: x[1], reverse=True)\n",
        "    sim_scores = sim_scores[1:4]  # Top 3 recommendations\n",
        "    movie_indices = [i[0] for i in sim_scores]\n",
        "    return df['title'].iloc[movie_indices]\n",
        "\n",
        "# Example usage\n",
        "print(\"Recommendations for 'Inception':\")\n",
        "print(recommend('Inception'))"
      ]
    }
  ]
}